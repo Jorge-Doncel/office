{
 "cells": [
  {
   "cell_type": "code",
   "execution_count": 1,
   "metadata": {},
   "outputs": [],
   "source": [
    "import json, requests\n",
    "import re\n",
    "import pandas as pd\n",
    "import numpy as np\n",
    "from pymongo import ASCENDING, DESCENDING\n",
    "from pymongo import MongoClient\n",
    "import os\n",
    "from dotenv import load_dotenv\n",
    "load_dotenv()\n",
    "from folium import Map, Marker, Icon, FeatureGroup, LayerControl, Choropleth\n",
    "from folium.plugins import HeatMap\n",
    "import math\n",
    "from geofun import *"
   ]
  },
  {
   "cell_type": "markdown",
   "metadata": {},
   "source": [
    "# Select video-game and design companies in San Francisco (SF)"
   ]
  },
  {
   "cell_type": "code",
   "execution_count": 2,
   "metadata": {},
   "outputs": [],
   "source": [
    "dbName = \"companies\"\n",
    "mongodbURL = f\"mongodb://localhost/{dbName}\"\n",
    "\n",
    "client = MongoClient(mongodbURL, connectTimeoutMS=2000, serverSelectionTimeoutMS=2000)\n",
    "db = client.get_database()"
   ]
  },
  {
   "cell_type": "code",
   "execution_count": 3,
   "metadata": {},
   "outputs": [
    {
     "name": "stderr",
     "output_type": "stream",
     "text": [
      "/home/jorge/.local/lib/python3.6/site-packages/ipykernel_launcher.py:1: DeprecationWarning: Flags not at the start of the expression 'game(?i)'\n",
      "  \"\"\"Entry point for launching an IPython kernel.\n",
      "/home/jorge/.local/lib/python3.6/site-packages/ipykernel_launcher.py:1: DeprecationWarning: Flags not at the start of the expression 'design(?i)'\n",
      "  \"\"\"Entry point for launching an IPython kernel.\n"
     ]
    }
   ],
   "source": [
    "companies=list(db.companies.find({'category_code':{'$in':[re.compile(r\"game(?i)\"),re.compile(r\"design(?i)\")]}},{\"name\":1, \"offices\":1, \"_id\":0}))\n",
    "df = pd.DataFrame(list(companies))"
   ]
  },
  {
   "cell_type": "code",
   "execution_count": 4,
   "metadata": {},
   "outputs": [],
   "source": [
    "offices = df.explode(\"offices\").apply(lambda e: e.offices,axis=1,result_type=\"expand\")"
   ]
  },
  {
   "cell_type": "code",
   "execution_count": 5,
   "metadata": {},
   "outputs": [],
   "source": [
    "clean_offices = pd.concat([df[[\"name\"]], offices], axis=1)"
   ]
  },
  {
   "cell_type": "code",
   "execution_count": null,
   "metadata": {},
   "outputs": [],
   "source": [
    "clean_offices[\"geopoint\"] = clean_offices.apply(transformToGeoPoint, axis=1)"
   ]
  },
  {
   "cell_type": "code",
   "execution_count": 7,
   "metadata": {},
   "outputs": [],
   "source": [
    "clean_offices= clean_offices[clean_offices[\"city\"] == \"San Francisco\"]"
   ]
  },
  {
   "cell_type": "code",
   "execution_count": 8,
   "metadata": {},
   "outputs": [
    {
     "data": {
      "text/plain": [
       "False    50\n",
       "Name: latitude, dtype: int64"
      ]
     },
     "execution_count": 8,
     "metadata": {},
     "output_type": "execute_result"
    }
   ],
   "source": [
    "clean_offices =clean_offices.dropna(subset=[\"latitude\", \"longitude\"], how='all')\n",
    "clean_offices[\"latitude\"].isnull().value_counts()"
   ]
  },
  {
   "cell_type": "code",
   "execution_count": 9,
   "metadata": {},
   "outputs": [],
   "source": [
    "clean_offices.to_json(\"offices.json\",orient=\"records\")"
   ]
  },
  {
   "cell_type": "markdown",
   "metadata": {},
   "source": [
    "# Search Starbucks, Vegan Resturants, Basketball Stadiums, Parks and NightClubs"
   ]
  },
  {
   "cell_type": "code",
   "execution_count": 11,
   "metadata": {},
   "outputs": [
    {
     "data": {
      "text/plain": [
       "{'type': 'Point', 'coordinates': [-122.45712, 37.78986]}"
      ]
     },
     "execution_count": 11,
     "metadata": {},
     "output_type": "execute_result"
    }
   ],
   "source": [
    "center_SF = geocode(\"San Francisco, CA\")\n",
    "center_SF"
   ]
  },
  {
   "cell_type": "code",
   "execution_count": 14,
   "metadata": {},
   "outputs": [],
   "source": [
    "starbucks_SF = getQuery(\"starbucks\")"
   ]
  },
  {
   "cell_type": "code",
   "execution_count": 15,
   "metadata": {},
   "outputs": [],
   "source": [
    "vegan_SF = getId(\"4bf58dd8d48988d1d3941735\", 6000)"
   ]
  },
  {
   "cell_type": "code",
   "execution_count": 16,
   "metadata": {},
   "outputs": [],
   "source": [
    "basketball_SF= getId(\"4bf58dd8d48988d18b941735\", 10000)"
   ]
  },
  {
   "cell_type": "code",
   "execution_count": 17,
   "metadata": {},
   "outputs": [],
   "source": [
    "party_SF= getQuery(\"4bf58dd8d48988d11f941735\", 20000)"
   ]
  },
  {
   "cell_type": "code",
   "execution_count": 18,
   "metadata": {},
   "outputs": [],
   "source": [
    "parks_SF= getQuery(\"4d4b7105d754a06377d81259\", 20000)"
   ]
  },
  {
   "cell_type": "markdown",
   "metadata": {},
   "source": [
    "# Keep as a dictionary "
   ]
  },
  {
   "cell_type": "code",
   "execution_count": 19,
   "metadata": {},
   "outputs": [],
   "source": [
    "starbucks_SF_dict=[]\n",
    "for i in list(range(len(starbucks_SF[\"response\"][\"groups\"][0][\"items\"]))):\n",
    "        \n",
    "            starbucks_SF_dict.append({\n",
    "        \"name\": starbucks_SF[\"response\"][\"groups\"][0][\"items\"][i][\"venue\"][\"name\"],\n",
    "        \"state_code\": starbucks_SF[\"response\"][\"groups\"][0][\"items\"][i][\"venue\"][\"location\"][\"state\"],\n",
    "        \"country_code\": starbucks_SF[\"response\"][\"groups\"][0][\"items\"][i][\"venue\"][\"location\"][\"country\"],\n",
    "        \"latitude\": starbucks_SF[\"response\"][\"groups\"][0][\"items\"][i][\"venue\"][\"location\"][\"lat\"],\n",
    "        \"longitude\": starbucks_SF[\"response\"][\"groups\"][0][\"items\"][i][\"venue\"][\"location\"][\"lng\"]\n",
    "    })"
   ]
  },
  {
   "cell_type": "code",
   "execution_count": 20,
   "metadata": {},
   "outputs": [],
   "source": [
    "vegan_SF_dict=[]\n",
    "for i in list(range(len(vegan_SF[\"response\"][\"groups\"][0][\"items\"]))):\n",
    "        \n",
    "            vegan_SF_dict.append({\n",
    "        \"name\": vegan_SF[\"response\"][\"groups\"][0][\"items\"][i][\"venue\"][\"name\"],\n",
    "        \"state_code\": vegan_SF[\"response\"][\"groups\"][0][\"items\"][i][\"venue\"][\"location\"][\"state\"],\n",
    "        \"country_code\": vegan_SF[\"response\"][\"groups\"][0][\"items\"][i][\"venue\"][\"location\"][\"country\"],\n",
    "        \"latitude\": vegan_SF[\"response\"][\"groups\"][0][\"items\"][i][\"venue\"][\"location\"][\"lat\"],\n",
    "        \"longitude\": vegan_SF[\"response\"][\"groups\"][0][\"items\"][i][\"venue\"][\"location\"][\"lng\"]\n",
    "    })"
   ]
  },
  {
   "cell_type": "code",
   "execution_count": 21,
   "metadata": {},
   "outputs": [],
   "source": [
    "basketball_SF_dict=[]\n",
    "for i in list(range(len(basketball_SF[\"response\"][\"groups\"][0][\"items\"]))):\n",
    "        \n",
    "            basketball_SF_dict.append({\n",
    "        \"name\": basketball_SF[\"response\"][\"groups\"][0][\"items\"][i][\"venue\"][\"name\"],\n",
    "        \"state_code\": basketball_SF[\"response\"][\"groups\"][0][\"items\"][i][\"venue\"][\"location\"][\"state\"],\n",
    "        \"country_code\": basketball_SF[\"response\"][\"groups\"][0][\"items\"][i][\"venue\"][\"location\"][\"country\"],\n",
    "        \"latitude\": basketball_SF[\"response\"][\"groups\"][0][\"items\"][i][\"venue\"][\"location\"][\"lat\"],\n",
    "        \"longitude\": basketball_SF[\"response\"][\"groups\"][0][\"items\"][i][\"venue\"][\"location\"][\"lng\"]\n",
    "    })"
   ]
  },
  {
   "cell_type": "code",
   "execution_count": 22,
   "metadata": {},
   "outputs": [],
   "source": [
    "party_SF_dict=[]\n",
    "for i in list(range(len(party_SF[\"response\"][\"groups\"][0][\"items\"]))):\n",
    "        \n",
    "            party_SF_dict.append({\n",
    "        \"name\": party_SF[\"response\"][\"groups\"][0][\"items\"][i][\"venue\"][\"name\"],\n",
    "        \"state_code\": party_SF[\"response\"][\"groups\"][0][\"items\"][i][\"venue\"][\"location\"][\"state\"],\n",
    "        \"country_code\": party_SF[\"response\"][\"groups\"][0][\"items\"][i][\"venue\"][\"location\"][\"country\"],\n",
    "        \"latitude\": party_SF[\"response\"][\"groups\"][0][\"items\"][i][\"venue\"][\"location\"][\"lat\"],\n",
    "        \"longitude\": party_SF[\"response\"][\"groups\"][0][\"items\"][i][\"venue\"][\"location\"][\"lng\"]\n",
    "    })"
   ]
  },
  {
   "cell_type": "code",
   "execution_count": 23,
   "metadata": {},
   "outputs": [],
   "source": [
    "parks_SF_dict=[]\n",
    "for i in list(range(len(parks_SF[\"response\"][\"groups\"][0][\"items\"]))):\n",
    "        \n",
    "            parks_SF_dict.append({\n",
    "        \"name\": parks_SF[\"response\"][\"groups\"][0][\"items\"][i][\"venue\"][\"name\"],\n",
    "        \"state_code\": parks_SF[\"response\"][\"groups\"][0][\"items\"][i][\"venue\"][\"location\"][\"state\"],\n",
    "        \"country_code\": parks_SF[\"response\"][\"groups\"][0][\"items\"][i][\"venue\"][\"location\"][\"country\"],\n",
    "        \"latitude\": parks_SF[\"response\"][\"groups\"][0][\"items\"][i][\"venue\"][\"location\"][\"lat\"],\n",
    "        \"longitude\": parks_SF[\"response\"][\"groups\"][0][\"items\"][i][\"venue\"][\"location\"][\"lng\"]\n",
    "    })"
   ]
  },
  {
   "cell_type": "markdown",
   "metadata": {},
   "source": [
    "# Add geopoint column and keep as a json"
   ]
  },
  {
   "cell_type": "code",
   "execution_count": 24,
   "metadata": {},
   "outputs": [],
   "source": [
    "starbucks = pd.DataFrame(starbucks_SF_dict)\n",
    "starbucks[\"geopoint\"] = starbucks.apply(transformToGeoPoint, axis=1)\n",
    "starbucks.to_json(\"starbucks.json\",orient=\"records\")"
   ]
  },
  {
   "cell_type": "code",
   "execution_count": 25,
   "metadata": {},
   "outputs": [],
   "source": [
    "vegan_restaurants = pd.DataFrame(vegan_SF_dict)\n",
    "vegan_restaurants[\"geopoint\"] = vegan_restaurants.apply(transformToGeoPoint, axis=1)\n",
    "vegan_restaurants.to_json(\"vegan.json\",orient=\"records\")"
   ]
  },
  {
   "cell_type": "code",
   "execution_count": 26,
   "metadata": {},
   "outputs": [],
   "source": [
    "basketball = pd.DataFrame(basketball_SF_dict)\n",
    "basketball[\"geopoint\"] = basketball.apply(transformToGeoPoint, axis=1)\n",
    "basketball.to_json(\"basketball.json\",orient=\"records\")"
   ]
  },
  {
   "cell_type": "code",
   "execution_count": 27,
   "metadata": {},
   "outputs": [],
   "source": [
    "party = pd.DataFrame(party_SF_dict)\n",
    "party[\"geopoint\"] = party.apply(transformToGeoPoint, axis=1)\n",
    "party.to_json(\"party.json\",orient=\"records\")"
   ]
  },
  {
   "cell_type": "code",
   "execution_count": 28,
   "metadata": {},
   "outputs": [],
   "source": [
    "parks = pd.DataFrame(parks_SF_dict)\n",
    "parks[\"geopoint\"] = parks.apply(transformToGeoPoint, axis=1)\n",
    "parks.to_json(\"parks.json\",orient=\"records\")"
   ]
  },
  {
   "cell_type": "markdown",
   "metadata": {},
   "source": [
    "# Select offices with near Starbucks, Vegan Resturants, Basketball Stadiums, Parks and NightClubs"
   ]
  },
  {
   "cell_type": "code",
   "execution_count": 30,
   "metadata": {},
   "outputs": [],
   "source": [
    "near_offices_starbucks=[]\n",
    "for i in range(len(starbucks)):\n",
    "    q=(db.offices.find(geoQueryNear(starbucks.iloc[i].geopoint, radius=100),{\"_id\":0,\"company_id\":0}))\n",
    "    near_offices_starbucks.append(list(q))\n",
    "near_offices_starbucks=[x for i in near_offices_starbucks for x in i]\n",
    "offices_starbucks=pd.DataFrame(near_offices_starbucks)\n",
    "offices_starbucks.to_json(\"offices_starbucks.json\",orient=\"records\")"
   ]
  },
  {
   "cell_type": "code",
   "execution_count": 31,
   "metadata": {},
   "outputs": [],
   "source": [
    "near_offices_vegan=[]\n",
    "for i in range(len(vegan_restaurants)):\n",
    "    q=(db.offices_starbucks.find(geoQueryNear(vegan_restaurants.iloc[i].geopoint, radius=100),{\"_id\":0,\"company_id\":0}))\n",
    "    near_offices_vegan.append(list(q))\n",
    "near_offices_vegan=[x for i in near_offices_vegan for x in i]\n",
    "offices_vegan=pd.DataFrame(near_offices_vegan)\n",
    "offices_vegan = offices_vegan.drop_duplicates(subset=[\"latitude\",\"longitude\"], keep=\"first\")\n",
    "offices_vegan.to_json(\"offices_vegan.json\",orient=\"records\")"
   ]
  },
  {
   "cell_type": "code",
   "execution_count": 32,
   "metadata": {},
   "outputs": [],
   "source": [
    "near_offices_party=[]\n",
    "for i in range(len(party)):\n",
    "    q=(db.offices_vegan.find(geoQueryNear(party.iloc[i].geopoint, radius=1000),{\"_id\":0,\"company_id\":0}))\n",
    "    near_offices_party.append(list(q))\n",
    "near_offices_party=[x for i in near_offices_party for x in i]\n",
    "offices_party=pd.DataFrame(near_offices_party)\n",
    "offices_party = offices_party.drop_duplicates(subset=[\"latitude\",\"longitude\"], keep=\"first\")\n",
    "offices_party.to_json(\"offices_party.json\",orient=\"records\")"
   ]
  },
  {
   "cell_type": "code",
   "execution_count": 33,
   "metadata": {},
   "outputs": [],
   "source": [
    "near_offices_parks=[]\n",
    "for i in range(len(parks)):\n",
    "    q=(db.offices_party.find(geoQueryNear(parks.iloc[i].geopoint, radius=1000),{\"_id\":0,\"company_id\":0}))\n",
    "    near_offices_parks.append(list(q))\n",
    "near_offices_parks=[x for i in near_offices_parks for x in i]\n",
    "offices_parks=pd.DataFrame(near_offices_parks)\n",
    "offices_parks = offices_parks.drop_duplicates(subset=[\"latitude\",\"longitude\"], keep=\"first\")\n",
    "offices_parks.to_json(\"offices_parks.json\",orient=\"records\")"
   ]
  },
  {
   "cell_type": "code",
   "execution_count": 34,
   "metadata": {},
   "outputs": [],
   "source": [
    "offices_all_requirements=[]\n",
    "for i in range(len(basketball)):\n",
    "    q=(db.offices_parks.find(geoQueryNear(basketball.iloc[i].geopoint, radius=1000),{\"_id\":0,\"company_id\":0}))\n",
    "    offices_all_requirements.append(list(q))\n",
    "offices_all_requirements=[x for i in offices_all_requirements for x in i]\n",
    "select_offices=pd.DataFrame(offices_all_requirements)\n",
    "select_offices = select_offices.drop_duplicates(subset=[\"latitude\",\"longitude\"], keep=\"first\")\n",
    "select_offices.to_json(\"select_offices.json\",orient=\"records\")"
   ]
  },
  {
   "cell_type": "code",
   "execution_count": 47,
   "metadata": {},
   "outputs": [
    {
     "data": {
      "text/html": [
       "<div>\n",
       "<style scoped>\n",
       "    .dataframe tbody tr th:only-of-type {\n",
       "        vertical-align: middle;\n",
       "    }\n",
       "\n",
       "    .dataframe tbody tr th {\n",
       "        vertical-align: top;\n",
       "    }\n",
       "\n",
       "    .dataframe thead th {\n",
       "        text-align: right;\n",
       "    }\n",
       "</style>\n",
       "<table border=\"1\" class=\"dataframe\">\n",
       "  <thead>\n",
       "    <tr style=\"text-align: right;\">\n",
       "      <th></th>\n",
       "      <th>name</th>\n",
       "      <th>description</th>\n",
       "      <th>address1</th>\n",
       "      <th>address2</th>\n",
       "      <th>zip_code</th>\n",
       "      <th>city</th>\n",
       "      <th>state_code</th>\n",
       "      <th>country_code</th>\n",
       "      <th>latitude</th>\n",
       "      <th>longitude</th>\n",
       "      <th>geopoint</th>\n",
       "    </tr>\n",
       "  </thead>\n",
       "  <tbody>\n",
       "    <tr>\n",
       "      <th>0</th>\n",
       "      <td>Lexy</td>\n",
       "      <td>Corporate Headquarters</td>\n",
       "      <td>589 Howard Street</td>\n",
       "      <td>Fifth Floor</td>\n",
       "      <td>94105</td>\n",
       "      <td>San Francisco</td>\n",
       "      <td>CA</td>\n",
       "      <td>USA</td>\n",
       "      <td>37.786906</td>\n",
       "      <td>-122.397672</td>\n",
       "      <td>{'type': 'Point', 'coordinates': [-122.397672,...</td>\n",
       "    </tr>\n",
       "    <tr>\n",
       "      <th>1</th>\n",
       "      <td>NaturalMotion</td>\n",
       "      <td>San Francisco</td>\n",
       "      <td>143 2nd Street</td>\n",
       "      <td>Fifth Floor</td>\n",
       "      <td>94105</td>\n",
       "      <td>San Francisco</td>\n",
       "      <td>CA</td>\n",
       "      <td>USA</td>\n",
       "      <td>37.787530</td>\n",
       "      <td>-122.399000</td>\n",
       "      <td>{'type': 'Point', 'coordinates': [-122.3989996...</td>\n",
       "    </tr>\n",
       "    <tr>\n",
       "      <th>2</th>\n",
       "      <td>hi5</td>\n",
       "      <td></td>\n",
       "      <td>55 Second Street</td>\n",
       "      <td>Suite 400</td>\n",
       "      <td>94105</td>\n",
       "      <td>San Francisco</td>\n",
       "      <td>CA</td>\n",
       "      <td>USA</td>\n",
       "      <td>37.788668</td>\n",
       "      <td>-122.400558</td>\n",
       "      <td>{'type': 'Point', 'coordinates': [-122.400558,...</td>\n",
       "    </tr>\n",
       "    <tr>\n",
       "      <th>3</th>\n",
       "      <td>Serious Business</td>\n",
       "      <td></td>\n",
       "      <td>580 Market Street</td>\n",
       "      <td>#600</td>\n",
       "      <td>94104</td>\n",
       "      <td>San Francisco</td>\n",
       "      <td>CA</td>\n",
       "      <td>USA</td>\n",
       "      <td>37.789321</td>\n",
       "      <td>-122.401362</td>\n",
       "      <td>{'type': 'Point', 'coordinates': [-122.4013624...</td>\n",
       "    </tr>\n",
       "    <tr>\n",
       "      <th>4</th>\n",
       "      <td>PlayFirst</td>\n",
       "      <td>HQ</td>\n",
       "      <td>160 Spear St</td>\n",
       "      <td>Suite 1300</td>\n",
       "      <td>94105</td>\n",
       "      <td>San Francisco</td>\n",
       "      <td>CA</td>\n",
       "      <td>USA</td>\n",
       "      <td>37.790346</td>\n",
       "      <td>-122.401850</td>\n",
       "      <td>{'type': 'Point', 'coordinates': [-122.40185, ...</td>\n",
       "    </tr>\n",
       "  </tbody>\n",
       "</table>\n",
       "</div>"
      ],
      "text/plain": [
       "               name             description           address1     address2  \\\n",
       "0              Lexy  Corporate Headquarters  589 Howard Street  Fifth Floor   \n",
       "1     NaturalMotion           San Francisco     143 2nd Street  Fifth Floor   \n",
       "2               hi5                           55 Second Street    Suite 400   \n",
       "3  Serious Business                          580 Market Street         #600   \n",
       "4         PlayFirst                      HQ       160 Spear St   Suite 1300   \n",
       "\n",
       "  zip_code           city state_code country_code   latitude   longitude  \\\n",
       "0    94105  San Francisco         CA          USA  37.786906 -122.397672   \n",
       "1    94105  San Francisco         CA          USA  37.787530 -122.399000   \n",
       "2    94105  San Francisco         CA          USA  37.788668 -122.400558   \n",
       "3    94104  San Francisco         CA          USA  37.789321 -122.401362   \n",
       "4    94105  San Francisco         CA          USA  37.790346 -122.401850   \n",
       "\n",
       "                                            geopoint  \n",
       "0  {'type': 'Point', 'coordinates': [-122.397672,...  \n",
       "1  {'type': 'Point', 'coordinates': [-122.3989996...  \n",
       "2  {'type': 'Point', 'coordinates': [-122.400558,...  \n",
       "3  {'type': 'Point', 'coordinates': [-122.4013624...  \n",
       "4  {'type': 'Point', 'coordinates': [-122.40185, ...  "
      ]
     },
     "execution_count": 47,
     "metadata": {},
     "output_type": "execute_result"
    }
   ],
   "source": [
    "select_offices.head()"
   ]
  },
  {
   "cell_type": "markdown",
   "metadata": {},
   "source": [
    "# Select location near Starbucks, Vegan Resturants, Basketball Stadiums, Parks and NightClubs of that offices"
   ]
  },
  {
   "cell_type": "code",
   "execution_count": 52,
   "metadata": {},
   "outputs": [
    {
     "data": {
      "text/html": [
       "<div>\n",
       "<style scoped>\n",
       "    .dataframe tbody tr th:only-of-type {\n",
       "        vertical-align: middle;\n",
       "    }\n",
       "\n",
       "    .dataframe tbody tr th {\n",
       "        vertical-align: top;\n",
       "    }\n",
       "\n",
       "    .dataframe thead th {\n",
       "        text-align: right;\n",
       "    }\n",
       "</style>\n",
       "<table border=\"1\" class=\"dataframe\">\n",
       "  <thead>\n",
       "    <tr style=\"text-align: right;\">\n",
       "      <th></th>\n",
       "      <th>name</th>\n",
       "      <th>state_code</th>\n",
       "      <th>country_code</th>\n",
       "      <th>latitude</th>\n",
       "      <th>longitude</th>\n",
       "      <th>geopoint</th>\n",
       "    </tr>\n",
       "  </thead>\n",
       "  <tbody>\n",
       "    <tr>\n",
       "      <th>0</th>\n",
       "      <td>Starbucks</td>\n",
       "      <td>CA</td>\n",
       "      <td>United States</td>\n",
       "      <td>37.788792</td>\n",
       "      <td>-122.400710</td>\n",
       "      <td>{'type': 'Point', 'coordinates': [-122.4007102...</td>\n",
       "    </tr>\n",
       "    <tr>\n",
       "      <th>1</th>\n",
       "      <td>Starbucks</td>\n",
       "      <td>CA</td>\n",
       "      <td>United States</td>\n",
       "      <td>37.787902</td>\n",
       "      <td>-122.401144</td>\n",
       "      <td>{'type': 'Point', 'coordinates': [-122.4011438...</td>\n",
       "    </tr>\n",
       "    <tr>\n",
       "      <th>2</th>\n",
       "      <td>Starbucks</td>\n",
       "      <td>CA</td>\n",
       "      <td>United States</td>\n",
       "      <td>37.789594</td>\n",
       "      <td>-122.402032</td>\n",
       "      <td>{'type': 'Point', 'coordinates': [-122.402032,...</td>\n",
       "    </tr>\n",
       "    <tr>\n",
       "      <th>4</th>\n",
       "      <td>Starbucks</td>\n",
       "      <td>CA</td>\n",
       "      <td>United States</td>\n",
       "      <td>37.790070</td>\n",
       "      <td>-122.402083</td>\n",
       "      <td>{'type': 'Point', 'coordinates': [-122.4020826...</td>\n",
       "    </tr>\n",
       "    <tr>\n",
       "      <th>6</th>\n",
       "      <td>Starbucks</td>\n",
       "      <td>CA</td>\n",
       "      <td>United States</td>\n",
       "      <td>37.787360</td>\n",
       "      <td>-122.403180</td>\n",
       "      <td>{'type': 'Point', 'coordinates': [-122.40318, ...</td>\n",
       "    </tr>\n",
       "  </tbody>\n",
       "</table>\n",
       "</div>"
      ],
      "text/plain": [
       "        name state_code   country_code   latitude   longitude  \\\n",
       "0  Starbucks         CA  United States  37.788792 -122.400710   \n",
       "1  Starbucks         CA  United States  37.787902 -122.401144   \n",
       "2  Starbucks         CA  United States  37.789594 -122.402032   \n",
       "4  Starbucks         CA  United States  37.790070 -122.402083   \n",
       "6  Starbucks         CA  United States  37.787360 -122.403180   \n",
       "\n",
       "                                            geopoint  \n",
       "0  {'type': 'Point', 'coordinates': [-122.4007102...  \n",
       "1  {'type': 'Point', 'coordinates': [-122.4011438...  \n",
       "2  {'type': 'Point', 'coordinates': [-122.402032,...  \n",
       "4  {'type': 'Point', 'coordinates': [-122.4020826...  \n",
       "6  {'type': 'Point', 'coordinates': [-122.40318, ...  "
      ]
     },
     "execution_count": 52,
     "metadata": {},
     "output_type": "execute_result"
    }
   ],
   "source": [
    "near_starbucks=[]\n",
    "for i in range(len(select_offices)):\n",
    "    q=(db.starbucks.find(geoQueryNear(select_offices.iloc[i].geopoint, radius=100),{\"_id\":0,\"company_id\":0}))\n",
    "    near_starbucks.append(list(q))\n",
    "near_starbucks=[x for i in near_starbucks for x in i]\n",
    "off_starbucks=pd.DataFrame(near_starbucks)\n",
    "off_starbucks = off_starbucks.drop_duplicates(subset=[\"latitude\",\"longitude\"], keep=\"first\")\n",
    "off_starbucks"
   ]
  },
  {
   "cell_type": "code",
   "execution_count": 51,
   "metadata": {},
   "outputs": [
    {
     "data": {
      "text/html": [
       "<div>\n",
       "<style scoped>\n",
       "    .dataframe tbody tr th:only-of-type {\n",
       "        vertical-align: middle;\n",
       "    }\n",
       "\n",
       "    .dataframe tbody tr th {\n",
       "        vertical-align: top;\n",
       "    }\n",
       "\n",
       "    .dataframe thead th {\n",
       "        text-align: right;\n",
       "    }\n",
       "</style>\n",
       "<table border=\"1\" class=\"dataframe\">\n",
       "  <thead>\n",
       "    <tr style=\"text-align: right;\">\n",
       "      <th></th>\n",
       "      <th>name</th>\n",
       "      <th>state_code</th>\n",
       "      <th>country_code</th>\n",
       "      <th>latitude</th>\n",
       "      <th>longitude</th>\n",
       "      <th>geopoint</th>\n",
       "    </tr>\n",
       "  </thead>\n",
       "  <tbody>\n",
       "    <tr>\n",
       "      <th>0</th>\n",
       "      <td>sweetgreen</td>\n",
       "      <td>CA</td>\n",
       "      <td>United States</td>\n",
       "      <td>37.787262</td>\n",
       "      <td>-122.398635</td>\n",
       "      <td>{'type': 'Point', 'coordinates': [-122.3986346...</td>\n",
       "    </tr>\n",
       "    <tr>\n",
       "      <th>2</th>\n",
       "      <td>Sunrise Deli</td>\n",
       "      <td>CA</td>\n",
       "      <td>United States</td>\n",
       "      <td>37.788611</td>\n",
       "      <td>-122.400532</td>\n",
       "      <td>{'type': 'Point', 'coordinates': [-122.4005322...</td>\n",
       "    </tr>\n",
       "    <tr>\n",
       "      <th>3</th>\n",
       "      <td>Dosa Brothers</td>\n",
       "      <td>CA</td>\n",
       "      <td>United States</td>\n",
       "      <td>37.789021</td>\n",
       "      <td>-122.401848</td>\n",
       "      <td>{'type': 'Point', 'coordinates': [-122.4018479...</td>\n",
       "    </tr>\n",
       "    <tr>\n",
       "      <th>4</th>\n",
       "      <td>WeTheTrillions.</td>\n",
       "      <td>CA</td>\n",
       "      <td>United States</td>\n",
       "      <td>37.790158</td>\n",
       "      <td>-122.402439</td>\n",
       "      <td>{'type': 'Point', 'coordinates': [-122.402439,...</td>\n",
       "    </tr>\n",
       "    <tr>\n",
       "      <th>6</th>\n",
       "      <td>The Plant Cafe Organic</td>\n",
       "      <td>CA</td>\n",
       "      <td>United States</td>\n",
       "      <td>37.791888</td>\n",
       "      <td>-122.402499</td>\n",
       "      <td>{'type': 'Point', 'coordinates': [-122.4024987...</td>\n",
       "    </tr>\n",
       "    <tr>\n",
       "      <th>7</th>\n",
       "      <td>Ginto Izakaya Japonaise</td>\n",
       "      <td>CA</td>\n",
       "      <td>United States</td>\n",
       "      <td>37.788313</td>\n",
       "      <td>-122.402916</td>\n",
       "      <td>{'type': 'Point', 'coordinates': [-122.402916,...</td>\n",
       "    </tr>\n",
       "  </tbody>\n",
       "</table>\n",
       "</div>"
      ],
      "text/plain": [
       "                      name state_code   country_code   latitude   longitude  \\\n",
       "0               sweetgreen         CA  United States  37.787262 -122.398635   \n",
       "2             Sunrise Deli         CA  United States  37.788611 -122.400532   \n",
       "3            Dosa Brothers         CA  United States  37.789021 -122.401848   \n",
       "4          WeTheTrillions.         CA  United States  37.790158 -122.402439   \n",
       "6   The Plant Cafe Organic         CA  United States  37.791888 -122.402499   \n",
       "7  Ginto Izakaya Japonaise         CA  United States  37.788313 -122.402916   \n",
       "\n",
       "                                            geopoint  \n",
       "0  {'type': 'Point', 'coordinates': [-122.3986346...  \n",
       "2  {'type': 'Point', 'coordinates': [-122.4005322...  \n",
       "3  {'type': 'Point', 'coordinates': [-122.4018479...  \n",
       "4  {'type': 'Point', 'coordinates': [-122.402439,...  \n",
       "6  {'type': 'Point', 'coordinates': [-122.4024987...  \n",
       "7  {'type': 'Point', 'coordinates': [-122.402916,...  "
      ]
     },
     "execution_count": 51,
     "metadata": {},
     "output_type": "execute_result"
    }
   ],
   "source": [
    "near_vegan=[]\n",
    "for i in range(len(select_offices)):\n",
    "    q=(db.vegan.find(geoQueryNear(select_offices.iloc[i].geopoint, radius=100),{\"_id\":0,\"company_id\":0}))\n",
    "    near_vegan.append(list(q))\n",
    "near_vegan=[x for i in near_vegan for x in i]\n",
    "off_vegan=pd.DataFrame(near_vegan)\n",
    "off_vegan = off_vegan.drop_duplicates(subset=[\"latitude\",\"longitude\"], keep=\"first\")\n",
    "off_vegan"
   ]
  },
  {
   "cell_type": "code",
   "execution_count": 49,
   "metadata": {},
   "outputs": [
    {
     "data": {
      "text/html": [
       "<div>\n",
       "<style scoped>\n",
       "    .dataframe tbody tr th:only-of-type {\n",
       "        vertical-align: middle;\n",
       "    }\n",
       "\n",
       "    .dataframe tbody tr th {\n",
       "        vertical-align: top;\n",
       "    }\n",
       "\n",
       "    .dataframe thead th {\n",
       "        text-align: right;\n",
       "    }\n",
       "</style>\n",
       "<table border=\"1\" class=\"dataframe\">\n",
       "  <thead>\n",
       "    <tr style=\"text-align: right;\">\n",
       "      <th></th>\n",
       "      <th>name</th>\n",
       "      <th>state_code</th>\n",
       "      <th>country_code</th>\n",
       "      <th>latitude</th>\n",
       "      <th>longitude</th>\n",
       "      <th>geopoint</th>\n",
       "    </tr>\n",
       "  </thead>\n",
       "  <tbody>\n",
       "    <tr>\n",
       "      <th>0</th>\n",
       "      <td>AMC Metreon 16</td>\n",
       "      <td>CA</td>\n",
       "      <td>United States</td>\n",
       "      <td>37.784654</td>\n",
       "      <td>-122.403189</td>\n",
       "      <td>{'type': 'Point', 'coordinates': [-122.4031889...</td>\n",
       "    </tr>\n",
       "  </tbody>\n",
       "</table>\n",
       "</div>"
      ],
      "text/plain": [
       "             name state_code   country_code   latitude   longitude  \\\n",
       "0  AMC Metreon 16         CA  United States  37.784654 -122.403189   \n",
       "\n",
       "                                            geopoint  \n",
       "0  {'type': 'Point', 'coordinates': [-122.4031889...  "
      ]
     },
     "execution_count": 49,
     "metadata": {},
     "output_type": "execute_result"
    }
   ],
   "source": [
    "near_party=[]\n",
    "for i in range(len(select_offices)):\n",
    "    q=(db.party.find(geoQueryNear(select_offices.iloc[i].geopoint, radius=1000),{\"_id\":0,\"company_id\":0}))\n",
    "    near_party.append(list(q))\n",
    "near_party=[x for i in near_party for x in i]\n",
    "off_party=pd.DataFrame(near_party)\n",
    "off_party = off_party.drop_duplicates(subset=[\"latitude\",\"longitude\"], keep=\"first\")\n",
    "off_party"
   ]
  },
  {
   "cell_type": "code",
   "execution_count": 48,
   "metadata": {},
   "outputs": [
    {
     "data": {
      "text/html": [
       "<div>\n",
       "<style scoped>\n",
       "    .dataframe tbody tr th:only-of-type {\n",
       "        vertical-align: middle;\n",
       "    }\n",
       "\n",
       "    .dataframe tbody tr th {\n",
       "        vertical-align: top;\n",
       "    }\n",
       "\n",
       "    .dataframe thead th {\n",
       "        text-align: right;\n",
       "    }\n",
       "</style>\n",
       "<table border=\"1\" class=\"dataframe\">\n",
       "  <thead>\n",
       "    <tr style=\"text-align: right;\">\n",
       "      <th></th>\n",
       "      <th>name</th>\n",
       "      <th>state_code</th>\n",
       "      <th>country_code</th>\n",
       "      <th>latitude</th>\n",
       "      <th>longitude</th>\n",
       "      <th>geopoint</th>\n",
       "    </tr>\n",
       "  </thead>\n",
       "  <tbody>\n",
       "    <tr>\n",
       "      <th>0</th>\n",
       "      <td>Law Office of Amie D. Miller San Francisco Imm...</td>\n",
       "      <td>CA</td>\n",
       "      <td>United States</td>\n",
       "      <td>37.792836</td>\n",
       "      <td>-122.401090</td>\n",
       "      <td>{'type': 'Point', 'coordinates': [-122.4010901...</td>\n",
       "    </tr>\n",
       "    <tr>\n",
       "      <th>1</th>\n",
       "      <td>Nordstrom</td>\n",
       "      <td>CA</td>\n",
       "      <td>United States</td>\n",
       "      <td>37.783970</td>\n",
       "      <td>-122.407054</td>\n",
       "      <td>{'type': 'Point', 'coordinates': [-122.4070539...</td>\n",
       "    </tr>\n",
       "    <tr>\n",
       "      <th>2</th>\n",
       "      <td>Michael D. Ross, Attorney at Law</td>\n",
       "      <td>CA</td>\n",
       "      <td>United States</td>\n",
       "      <td>37.793983</td>\n",
       "      <td>-122.403341</td>\n",
       "      <td>{'type': 'Point', 'coordinates': [-122.403341,...</td>\n",
       "    </tr>\n",
       "    <tr>\n",
       "      <th>12</th>\n",
       "      <td>Big 4 Restaurant</td>\n",
       "      <td>CA</td>\n",
       "      <td>United States</td>\n",
       "      <td>37.791490</td>\n",
       "      <td>-122.412393</td>\n",
       "      <td>{'type': 'Point', 'coordinates': [-122.4123929...</td>\n",
       "    </tr>\n",
       "    <tr>\n",
       "      <th>23</th>\n",
       "      <td>D&amp;A Cafe</td>\n",
       "      <td>CA</td>\n",
       "      <td>United States</td>\n",
       "      <td>37.798004</td>\n",
       "      <td>-122.408142</td>\n",
       "      <td>{'type': 'Point', 'coordinates': [-122.4081420...</td>\n",
       "    </tr>\n",
       "  </tbody>\n",
       "</table>\n",
       "</div>"
      ],
      "text/plain": [
       "                                                 name state_code  \\\n",
       "0   Law Office of Amie D. Miller San Francisco Imm...         CA   \n",
       "1                                           Nordstrom         CA   \n",
       "2                    Michael D. Ross, Attorney at Law         CA   \n",
       "12                                   Big 4 Restaurant         CA   \n",
       "23                                           D&A Cafe         CA   \n",
       "\n",
       "     country_code   latitude   longitude  \\\n",
       "0   United States  37.792836 -122.401090   \n",
       "1   United States  37.783970 -122.407054   \n",
       "2   United States  37.793983 -122.403341   \n",
       "12  United States  37.791490 -122.412393   \n",
       "23  United States  37.798004 -122.408142   \n",
       "\n",
       "                                             geopoint  \n",
       "0   {'type': 'Point', 'coordinates': [-122.4010901...  \n",
       "1   {'type': 'Point', 'coordinates': [-122.4070539...  \n",
       "2   {'type': 'Point', 'coordinates': [-122.403341,...  \n",
       "12  {'type': 'Point', 'coordinates': [-122.4123929...  \n",
       "23  {'type': 'Point', 'coordinates': [-122.4081420...  "
      ]
     },
     "execution_count": 48,
     "metadata": {},
     "output_type": "execute_result"
    }
   ],
   "source": [
    "near_parks=[]\n",
    "for i in range(len(select_offices)):\n",
    "    q=(db.parks.find(geoQueryNear(select_offices.iloc[i].geopoint, radius=1000),{\"_id\":0,\"company_id\":0}))\n",
    "    near_parks.append(list(q))\n",
    "near_parks=[x for i in near_parks for x in i]\n",
    "off_parks=pd.DataFrame(near_parks)\n",
    "off_parks = off_parks.drop_duplicates(subset=[\"latitude\",\"longitude\"], keep=\"first\")\n",
    "off_parks"
   ]
  },
  {
   "cell_type": "code",
   "execution_count": 46,
   "metadata": {},
   "outputs": [
    {
     "data": {
      "text/html": [
       "<div>\n",
       "<style scoped>\n",
       "    .dataframe tbody tr th:only-of-type {\n",
       "        vertical-align: middle;\n",
       "    }\n",
       "\n",
       "    .dataframe tbody tr th {\n",
       "        vertical-align: top;\n",
       "    }\n",
       "\n",
       "    .dataframe thead th {\n",
       "        text-align: right;\n",
       "    }\n",
       "</style>\n",
       "<table border=\"1\" class=\"dataframe\">\n",
       "  <thead>\n",
       "    <tr style=\"text-align: right;\">\n",
       "      <th></th>\n",
       "      <th>name</th>\n",
       "      <th>state_code</th>\n",
       "      <th>country_code</th>\n",
       "      <th>latitude</th>\n",
       "      <th>longitude</th>\n",
       "      <th>geopoint</th>\n",
       "    </tr>\n",
       "  </thead>\n",
       "  <tbody>\n",
       "    <tr>\n",
       "      <th>0</th>\n",
       "      <td>Equinox Sports Club San Francisco</td>\n",
       "      <td>CA</td>\n",
       "      <td>United States</td>\n",
       "      <td>37.786649</td>\n",
       "      <td>-122.404568</td>\n",
       "      <td>{'type': 'Point', 'coordinates': [-122.4045675...</td>\n",
       "    </tr>\n",
       "    <tr>\n",
       "      <th>1</th>\n",
       "      <td>YMCA</td>\n",
       "      <td>CA</td>\n",
       "      <td>United States</td>\n",
       "      <td>37.792651</td>\n",
       "      <td>-122.392083</td>\n",
       "      <td>{'type': 'Point', 'coordinates': [-122.3920834...</td>\n",
       "    </tr>\n",
       "  </tbody>\n",
       "</table>\n",
       "</div>"
      ],
      "text/plain": [
       "                                name state_code   country_code   latitude  \\\n",
       "0  Equinox Sports Club San Francisco         CA  United States  37.786649   \n",
       "1                               YMCA         CA  United States  37.792651   \n",
       "\n",
       "    longitude                                           geopoint  \n",
       "0 -122.404568  {'type': 'Point', 'coordinates': [-122.4045675...  \n",
       "1 -122.392083  {'type': 'Point', 'coordinates': [-122.3920834...  "
      ]
     },
     "execution_count": 46,
     "metadata": {},
     "output_type": "execute_result"
    }
   ],
   "source": [
    "near_basketball=[]\n",
    "for i in range(len(select_offices)):\n",
    "    q=(db.basketball.find(geoQueryNear(select_offices.iloc[3].geopoint, radius=1000),{\"_id\":0,\"company_id\":0}))\n",
    "    near_basketball.append(list(q))\n",
    "near_basketball=[x for i in near_basketball for x in i]\n",
    "off_basketball=pd.DataFrame(near_basketball)\n",
    "off_basketball = off_basketball.drop_duplicates(subset=[\"latitude\",\"longitude\"], keep=\"first\")\n",
    "off_basketball.head()"
   ]
  },
  {
   "cell_type": "markdown",
   "metadata": {},
   "source": [
    "# Create a dataframe with all locations"
   ]
  },
  {
   "cell_type": "code",
   "execution_count": 40,
   "metadata": {},
   "outputs": [],
   "source": [
    "final = pd.concat([select_offices, off_starbucks, off_vegan, off_basketball, off_party, off_parks])"
   ]
  },
  {
   "cell_type": "code",
   "execution_count": 45,
   "metadata": {},
   "outputs": [
    {
     "data": {
      "text/html": [
       "<div>\n",
       "<style scoped>\n",
       "    .dataframe tbody tr th:only-of-type {\n",
       "        vertical-align: middle;\n",
       "    }\n",
       "\n",
       "    .dataframe tbody tr th {\n",
       "        vertical-align: top;\n",
       "    }\n",
       "\n",
       "    .dataframe thead th {\n",
       "        text-align: right;\n",
       "    }\n",
       "</style>\n",
       "<table border=\"1\" class=\"dataframe\">\n",
       "  <thead>\n",
       "    <tr style=\"text-align: right;\">\n",
       "      <th></th>\n",
       "      <th>name</th>\n",
       "      <th>description</th>\n",
       "      <th>address1</th>\n",
       "      <th>address2</th>\n",
       "      <th>zip_code</th>\n",
       "      <th>city</th>\n",
       "      <th>state_code</th>\n",
       "      <th>country_code</th>\n",
       "      <th>latitude</th>\n",
       "      <th>longitude</th>\n",
       "      <th>geopoint</th>\n",
       "    </tr>\n",
       "  </thead>\n",
       "  <tbody>\n",
       "    <tr>\n",
       "      <th>0</th>\n",
       "      <td>Lexy</td>\n",
       "      <td>Corporate Headquarters</td>\n",
       "      <td>589 Howard Street</td>\n",
       "      <td>Fifth Floor</td>\n",
       "      <td>94105</td>\n",
       "      <td>San Francisco</td>\n",
       "      <td>CA</td>\n",
       "      <td>USA</td>\n",
       "      <td>37.786906</td>\n",
       "      <td>-122.397672</td>\n",
       "      <td>{'type': 'Point', 'coordinates': [-122.397672,...</td>\n",
       "    </tr>\n",
       "    <tr>\n",
       "      <th>1</th>\n",
       "      <td>NaturalMotion</td>\n",
       "      <td>San Francisco</td>\n",
       "      <td>143 2nd Street</td>\n",
       "      <td>Fifth Floor</td>\n",
       "      <td>94105</td>\n",
       "      <td>San Francisco</td>\n",
       "      <td>CA</td>\n",
       "      <td>USA</td>\n",
       "      <td>37.787530</td>\n",
       "      <td>-122.399000</td>\n",
       "      <td>{'type': 'Point', 'coordinates': [-122.3989996...</td>\n",
       "    </tr>\n",
       "    <tr>\n",
       "      <th>2</th>\n",
       "      <td>hi5</td>\n",
       "      <td></td>\n",
       "      <td>55 Second Street</td>\n",
       "      <td>Suite 400</td>\n",
       "      <td>94105</td>\n",
       "      <td>San Francisco</td>\n",
       "      <td>CA</td>\n",
       "      <td>USA</td>\n",
       "      <td>37.788668</td>\n",
       "      <td>-122.400558</td>\n",
       "      <td>{'type': 'Point', 'coordinates': [-122.400558,...</td>\n",
       "    </tr>\n",
       "    <tr>\n",
       "      <th>3</th>\n",
       "      <td>Serious Business</td>\n",
       "      <td></td>\n",
       "      <td>580 Market Street</td>\n",
       "      <td>#600</td>\n",
       "      <td>94104</td>\n",
       "      <td>San Francisco</td>\n",
       "      <td>CA</td>\n",
       "      <td>USA</td>\n",
       "      <td>37.789321</td>\n",
       "      <td>-122.401362</td>\n",
       "      <td>{'type': 'Point', 'coordinates': [-122.4013624...</td>\n",
       "    </tr>\n",
       "    <tr>\n",
       "      <th>4</th>\n",
       "      <td>PlayFirst</td>\n",
       "      <td>HQ</td>\n",
       "      <td>160 Spear St</td>\n",
       "      <td>Suite 1300</td>\n",
       "      <td>94105</td>\n",
       "      <td>San Francisco</td>\n",
       "      <td>CA</td>\n",
       "      <td>USA</td>\n",
       "      <td>37.790346</td>\n",
       "      <td>-122.401850</td>\n",
       "      <td>{'type': 'Point', 'coordinates': [-122.40185, ...</td>\n",
       "    </tr>\n",
       "  </tbody>\n",
       "</table>\n",
       "</div>"
      ],
      "text/plain": [
       "               name             description           address1     address2  \\\n",
       "0              Lexy  Corporate Headquarters  589 Howard Street  Fifth Floor   \n",
       "1     NaturalMotion           San Francisco     143 2nd Street  Fifth Floor   \n",
       "2               hi5                           55 Second Street    Suite 400   \n",
       "3  Serious Business                          580 Market Street         #600   \n",
       "4         PlayFirst                      HQ       160 Spear St   Suite 1300   \n",
       "\n",
       "  zip_code           city state_code country_code   latitude   longitude  \\\n",
       "0    94105  San Francisco         CA          USA  37.786906 -122.397672   \n",
       "1    94105  San Francisco         CA          USA  37.787530 -122.399000   \n",
       "2    94105  San Francisco         CA          USA  37.788668 -122.400558   \n",
       "3    94104  San Francisco         CA          USA  37.789321 -122.401362   \n",
       "4    94105  San Francisco         CA          USA  37.790346 -122.401850   \n",
       "\n",
       "                                            geopoint  \n",
       "0  {'type': 'Point', 'coordinates': [-122.397672,...  \n",
       "1  {'type': 'Point', 'coordinates': [-122.3989996...  \n",
       "2  {'type': 'Point', 'coordinates': [-122.400558,...  \n",
       "3  {'type': 'Point', 'coordinates': [-122.4013624...  \n",
       "4  {'type': 'Point', 'coordinates': [-122.40185, ...  "
      ]
     },
     "execution_count": 45,
     "metadata": {},
     "output_type": "execute_result"
    }
   ],
   "source": [
    "final.head()"
   ]
  },
  {
   "cell_type": "markdown",
   "metadata": {},
   "source": [
    "# Calculate mean location"
   ]
  },
  {
   "cell_type": "code",
   "execution_count": 53,
   "metadata": {},
   "outputs": [],
   "source": [
    "x = 0.0\n",
    "y = 0.0\n",
    "z = 0.0\n",
    "\n",
    "for i, coord in final.iterrows():\n",
    "    latitude = math.radians(coord.latitude)\n",
    "    longitude = math.radians(coord.longitude)\n",
    "\n",
    "    x += math.cos(latitude) * math.cos(longitude)\n",
    "    y += math.cos(latitude) * math.sin(longitude)\n",
    "    z += math.sin(latitude)\n",
    "\n",
    "total = len(final)\n",
    "\n",
    "x = x / total\n",
    "y = y / total\n",
    "z = z / total\n",
    "\n",
    "central_longitude = math.atan2(y, x)\n",
    "central_square_root = math.sqrt(x * x + y * y)\n",
    "central_latitude = math.atan2(z, central_square_root)\n",
    "\n",
    "new_office = {\n",
    "    'latitude': math.degrees(central_latitude),\n",
    "    'longitude': math.degrees(central_longitude)\n",
    "    }"
   ]
  },
  {
   "cell_type": "code",
   "execution_count": 54,
   "metadata": {},
   "outputs": [
    {
     "data": {
      "text/plain": [
       "{'latitude': 37.78931154002931, 'longitude': -122.40202634116092}"
      ]
     },
     "execution_count": 54,
     "metadata": {},
     "output_type": "execute_result"
    }
   ],
   "source": [
    "new_office"
   ]
  },
  {
   "cell_type": "code",
   "execution_count": 84,
   "metadata": {},
   "outputs": [],
   "source": [
    "office_location = officeLocation(\"37.78931154002931,-122.40202634116092\")"
   ]
  },
  {
   "cell_type": "code",
   "execution_count": 86,
   "metadata": {},
   "outputs": [],
   "source": [
    "office_location = {\"Street\":office_location[\"coordinates\"][\"staddress\"], \"Number\":office_location[\"coordinates\"][\"stnumber\"]  }"
   ]
  },
  {
   "cell_type": "code",
   "execution_count": 87,
   "metadata": {},
   "outputs": [
    {
     "data": {
      "text/plain": [
       "{'Street': 'MONTGOMERY ST', 'Number': '44'}"
      ]
     },
     "execution_count": 87,
     "metadata": {},
     "output_type": "execute_result"
    }
   ],
   "source": [
    "office_location"
   ]
  },
  {
   "cell_type": "markdown",
   "metadata": {},
   "source": [
    "# Create a map"
   ]
  },
  {
   "cell_type": "code",
   "execution_count": 89,
   "metadata": {},
   "outputs": [
    {
     "data": {
      "text/html": [
       "<div style=\"width:100%;\"><div style=\"position:relative;width:100%;height:0;padding-bottom:60%;\"><span style=\"color:#565656\">Make this Notebook Trusted to load map: File -> Trust Notebook</span><iframe src=\"about:blank\" style=\"position:absolute;width:100%;height:100%;left:0;top:0;border:none !important;\" data-html=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 onload=\"this.contentDocument.open();this.contentDocument.write(atob(this.getAttribute('data-html')));this.contentDocument.close();\" allowfullscreen webkitallowfullscreen mozallowfullscreen></iframe></div></div>"
      ],
      "text/plain": [
       "<folium.folium.Map at 0x7f1ad975d748>"
      ]
     },
     "execution_count": 89,
     "metadata": {},
     "output_type": "execute_result"
    }
   ],
   "source": [
    "m = Map(location=[37.779026,-122.419906],zoom_start=12)\n",
    "\n",
    "for i, row in select_offices.iterrows():\n",
    "    icon = Icon(color=\"red\",prefix=\"fa\",icon=\"gamepad\") \n",
    "    \n",
    "    Marker(location=row[[\"latitude\",\"longitude\"]],tooltip=\"VideoGames Offices\",\n",
    "            popup=row[\"name\"],icon=icon).add_to(m)\n",
    "        \n",
    "for i, row in off_starbucks.iterrows():\n",
    "    icon = Icon(color=\"blue\",prefix=\"fa\",icon=\"coffee\")   \n",
    "    \n",
    "    Marker(location=row[[\"latitude\",\"longitude\"]],tooltip=\"Starbucks\",\n",
    "            popup=row[\"name\"],icon=icon).add_to(m)\n",
    "        \n",
    "for i, row in off_party.iterrows():     \n",
    "    icon = Icon(color=\"black\",prefix=\"fa\",icon=\"glass\")  \n",
    "    \n",
    "    Marker(location=row[[\"latitude\",\"longitude\"]],tooltip=\"Night Club\",\n",
    "            popup=row[\"name\"],icon=icon).add_to(m)\n",
    "        \n",
    "for i, row in off_vegan.iterrows():\n",
    "    icon = Icon(color=\"green\",prefix=\"fa\",icon=\"cutlery\")  \n",
    "    \n",
    "    Marker(location=row[[\"latitude\",\"longitude\"]],tooltip=\"Vegan Resturant\",\n",
    "            popup=row[\"name\"],icon=icon).add_to(m)\n",
    "        \n",
    "for i, row in off_basketball.iterrows():\n",
    "    icon = Icon(color=\"cadetblue\",prefix=\"fa\",icon=\"heartbeat\")  \n",
    "    \n",
    "    Marker(location=row[[\"latitude\",\"longitude\"]],tooltip=\"Basketball Stadium\",\n",
    "            popup=row[\"name\"],icon=icon).add_to(m)\n",
    "\n",
    "for i, row in off_parks.iterrows():     \n",
    "    icon = Icon(color=\"darkgreen\",prefix=\"fa\",icon=\"tree\")    \n",
    "    \n",
    "    Marker(location=row[[\"latitude\",\"longitude\"]],tooltip=\"Park\",\n",
    "            popup=row[\"name\"],icon=icon).add_to(m)\n",
    "        \n",
    "icon = Icon(color=\"beige\",prefix=\"fa\",icon=\"star\")           \n",
    "Marker(location=[37.78931154002931,-122.40202634116092],\n",
    "       popup=office_location,tooltip=\"New Office\",icon=icon).add_to(m)\n",
    "\n",
    "\n",
    "m"
   ]
  },
  {
   "cell_type": "code",
   "execution_count": 90,
   "metadata": {},
   "outputs": [],
   "source": [
    "m.save('index.html')"
   ]
  },
  {
   "cell_type": "code",
   "execution_count": null,
   "metadata": {},
   "outputs": [],
   "source": []
  }
 ],
 "metadata": {
  "kernelspec": {
   "display_name": "Python 3",
   "language": "python",
   "name": "python3"
  },
  "language_info": {
   "codemirror_mode": {
    "name": "ipython",
    "version": 3
   },
   "file_extension": ".py",
   "mimetype": "text/x-python",
   "name": "python",
   "nbconvert_exporter": "python",
   "pygments_lexer": "ipython3",
   "version": "3.6.9"
  }
 },
 "nbformat": 4,
 "nbformat_minor": 4
}
